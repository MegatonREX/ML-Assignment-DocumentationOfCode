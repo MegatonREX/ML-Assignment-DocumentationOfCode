{
  "nbformat": 4,
  "nbformat_minor": 0,
  "metadata": {
    "colab": {
      "provenance": []
    },
    "kernelspec": {
      "name": "python3",
      "display_name": "Python 3"
    },
    "language_info": {
      "name": "python"
    }
  },
  "cells": [
    {
      "cell_type": "code",
      "execution_count": 1,
      "metadata": {
        "id": "y1f6zvNCASll"
      },
      "outputs": [],
      "source": [
        "import random\n",
        "import matplotlib.pyplot as plt"
      ]
    },
    {
      "cell_type": "markdown",
      "source": [
        "**Here we have imported 2 Python's pre-built modules from the Python library.**<br>\n",
        "**1. import random**, which basical generates psuedo random numbers for various distributions.<br>\n",
        "**2. import matplotlib.pyplot as plt**, here we have use the **(.)** dot operator to import an extended or you can say an module within the matplotlib package i.e., **pyplot**, **\"as plt\"** means we will call this fuction as **\"plt\"** not gonna use the full name just for the convenience.\n",
        "**Matplotlib** is used for the 2D graphical representation of data, it makes the visualization of the data easy and increases the readability of the code by using different graphs with the help of **pyplot**."
      ],
      "metadata": {
        "id": "hIXjLicfBvwv"
      }
    },
    {
      "cell_type": "code",
      "source": [
        "mapping_dict = dict(zip(range(0,10),range(0,10)))"
      ],
      "metadata": {
        "id": "O67YPNnTScoR"
      },
      "execution_count": 2,
      "outputs": []
    },
    {
      "cell_type": "markdown",
      "source": [
        "**mapping_dict** named **dictionary** has been created here with the help of **dict** and **zip** functions. By the way **snake_case** naming convention has been used here.<br>\n",
        "**1. range(0,10) :** It describes the iteration function in python which means a loop. It creates a sequence of number starting from 0 to 9 (10 is exclusive).<br>\n",
        "**2. zip( ) :** It is a function in python which comes in use to combine two iterable items. Like you can see here, we have taken 2 **range(0,10)** functions simultaneously. So, **zip( )** will pair the elements from the first **range(0,10)** correspondingly to the other **range(0,10)** elements.<br>\n",
        "**3. dict( ) :** Both the pair of elements made from the **zip( )** function will be converted into a **key-value** pair in the dictionary."
      ],
      "metadata": {
        "id": "GlAZesX_YC2d"
      }
    },
    {
      "cell_type": "code",
      "source": [
        "for k in mapping_dict.keys():\n",
        "  mapping_dict[k] = str(mapping_dict[k])"
      ],
      "metadata": {
        "id": "tXhmjgi5YfDf"
      },
      "execution_count": 3,
      "outputs": []
    },
    {
      "cell_type": "markdown",
      "source": [
        "**1. for k in mapping_dict.keys()** is performing an iteration function **for loop** over the keys of **mapping_dict** dictionary, you can access the keys by using the **(.) dot operator** as used in the code.<br>\n",
        "**2. mapping_dict[k] = str(mapping_dict[k])** the loop works on each key **[k]** and takes its corresponding value from the **mapping_dict[k]** then, perform a type conversion of integer **(int)** to string **(str)** by the help of **str() function** and then, putting back the corresponding value of every key **[k]** back in the **mapping_dict[k]**."
      ],
      "metadata": {
        "id": "0fi_U_1QYiv3"
      }
    },
    {
      "cell_type": "code",
      "source": [
        "for i in range(0,26):\n",
        "  mapping_dict[10+i] = chr(65+i)"
      ],
      "metadata": {
        "id": "PZBGX1Pwci2p"
      },
      "execution_count": 4,
      "outputs": []
    },
    {
      "cell_type": "markdown",
      "source": [
        "**1. for i in range(0,26) :** This loop function iterates 26 times with key **(i)** and extends the existing dictionary **mapping_dict** with elements from **(0,9) inclusive** to **(0,35) inclusive** adding a new range from **(0,26) 26 exclusive**.<br>\n",
        "**2. mapping_dict[10+i] :** This loop is calculating its key **(i)** as **(10+i)**, which means the key will store in dictionary from index number 10 as we have already key-value stored in the dictionary from index 0 to 9.<br>\n",
        "**chr(65+i) :** This function right here is converting it's ASCII value **(65+i)** to its corresponding uppercase alphabet. ASCII value for **'A'** is 65, so, here taking **(65+i)** will give **'A'**, as the loop is starting from 0 so, **(65+0)** will be **'A'**. As the loop will proceed the values will be **'B', 'C', 'D'..... 'Z'**. We have 26 total alphabets and this new loop will go from **(0,26) 26 exclusive** extending the previous loop. So, all the alphabets will be in this loop from index **10 to 35**."
      ],
      "metadata": {
        "id": "IlgbjtvYckpP"
      }
    },
    {
      "cell_type": "code",
      "source": [
        "sample_size = 5000\n",
        "\n",
        "random_numbers = list()\n",
        "\n",
        "for i in range(0,sample_size):\n",
        "\n",
        "  blank_str = str()\n",
        "\n",
        "  random_digit = random.randint(0,35)\n",
        "  blank_str = blank_str + mapping_dict[random_digit]\n",
        "\n",
        "  random_digit = random.randint(0,35)\n",
        "  blank_str = blank_str + mapping_dict[random_digit]\n",
        "\n",
        "  for i in range(0,8):\n",
        "    coin_toss = random.randint(0,1)\n",
        "\n",
        "    if coin_toss == 1:\n",
        "\n",
        "      random_digit = random.randint(0,35)\n",
        "      blank_str = blank_str + mapping_dict[random_digit]\n",
        "\n",
        "    else:\n",
        "      break\n",
        "\n",
        "  random_numbers.append(blank_str)"
      ],
      "metadata": {
        "id": "RcatDHcGjzyq"
      },
      "execution_count": 18,
      "outputs": []
    },
    {
      "cell_type": "markdown",
      "source": [
        "**1. sample_size = 5000 :** Created a variable named **sample_size** and assinged it's value to 5000.<br>\n",
        "**2. random_numbers = list() :** Created an empty list here, named **random_numbers**.<br>\n",
        "**3. for i in range(0,sample_size) :** A loop will start from 0 to 5000 (5000 is exclusive).<br>\n",
        "**4. blank_str = str() :** Created an empty string here named **blank_str**.<br>\n",
        "**5. random_digit = random.randint(0,35) :** **random.randint(0,35)** will generate a random integer from **(0,35) inclusive** and store it in **random_numbers**.<br>\n",
        "**6. blank_str = blank_str + mapping_dict[random_digit] :** Here value that we stored in the **random_digit** is getting used as the key for dictionary **mapping_dict** to call it's corresponding values and then, those values are getting stores in the **blank_str**.<br>\n",
        "**7. for i in range(0,8) :** Another loop is getting initiated from range **(0,7) inclusive** under the first loop.<br>\n",
        "**8. coin_toss = random.randint(0,1) :** A variable named **coin_toss** has been created which will store randomly generated interger 0 and 1.<br>\n",
        "**9. if coin_toss == 1 :** If-else condition block has been used here which is saying that, if the value of **coin_toss** is equal to 1 then, proceed to <br>\n",
        "**random_digit = random.randint(0,35)<br>\n",
        "blank_str = blank_str + mapping_dict[random_digit]**.<br>\n",
        "**10. else break :** If not the first condition then, the second condition means the else condition will work which is using a **break** statement which will immediatily terminate the loop.<br>\n",
        "**11. random_numbers.append(blank_str) :** Out of the second loop it is using **.append()** operator, which is used in list operations to add the element at the end of the list. Here also it is getting used to add the **blank_str** in **random_numbers**.\n",
        "\n"
      ],
      "metadata": {
        "id": "KZA4mSnlmGoK"
      }
    },
    {
      "cell_type": "code",
      "source": [
        "reverse_mapping_dict = dict()\n",
        "\n",
        "for k in mapping_dict.keys():\n",
        "  reverse_mapping_dict[mapping_dict[k]] = k"
      ],
      "metadata": {
        "id": "10lXtsRfva17"
      },
      "execution_count": 6,
      "outputs": []
    },
    {
      "cell_type": "markdown",
      "source": [
        "**1. reverse_mapping_dict = dict() :** An empty dictionary has been created here named **reverse_mapping_dict**.<br>\n",
        "**2. for k in mapping_dict.keys() :** (*discribed above*)<br>\n",
        "**3. reverse_mapping_dict[mapping_dict[k]] = k :** Here the key-value pair of dictionary is being reversed, means the values **(0,1,2,...,9,A,B,...,Z)** are now the keys and the index **(0,1,2,...,35)** are values now."
      ],
      "metadata": {
        "id": "dhfURqhSwOi2"
      }
    },
    {
      "cell_type": "code",
      "source": [
        "base_frequency = dict()\n",
        "\n",
        "for blank_str in random_numbers:\n",
        "  highest_digit = max(blank_str)\n",
        "  highest_base = reverse_mapping_dict[highest_digit] + 1\n",
        "\n",
        "  if highest_base in base_frequency.keys():\n",
        "    base_frequency[highest_base] += (1/sample_size)\n",
        "  else:\n",
        "    base_frequency[highest_base] = (1/sample_size)"
      ],
      "metadata": {
        "id": "MNAr0t2Tx4s1"
      },
      "execution_count": 7,
      "outputs": []
    },
    {
      "cell_type": "markdown",
      "source": [
        "**1. base_frequency = dict( ) :** Created and initiated an empty dictionary here.<br>\n",
        "**2. for blank_str in random_numbers :** for loop initiated here which iterates over each string of **random_numbers** in the **random_number** list.<br>\n",
        "**3. highest_digit = max(blank_str) :** It is finding the highest character in the string **blank_str** and then, saving it in the list **highest_digit**.<br>\n",
        "**4. highest_base = reverse_mapping_dict[highest_digit] + 1 :** Taking the corresponding values of key **highest_digit** in dictionary **reverse_mapping_dict** then adding 1 to it. So, it can get the highest base. Then, saving it in the list named **highest_base**.<br>\n",
        "**5. if highest_base in base_frequency.keys( ) :** if condition has been used here, which says that, if **base_frequency** key's is already a **highest_base** then, incrementing the **base_frequency[highest_base]** by 1/**sample_size**.<br>\n",
        "**6. else :** Adding a new key-value pair with highest_base and a frequency of **1/sample_size**."
      ],
      "metadata": {
        "id": "bWctcqjSFppO"
      }
    },
    {
      "cell_type": "code",
      "source": [
        "plt.bar(x=base_frequency.keys(),height=base_frequency.values())"
      ],
      "metadata": {
        "colab": {
          "base_uri": "https://localhost:8080/",
          "height": 447
        },
        "id": "09XJ219MJ-oI",
        "outputId": "56a309a5-a777-4c73-bf89-51b21d165ffc"
      },
      "execution_count": 22,
      "outputs": [
        {
          "output_type": "execute_result",
          "data": {
            "text/plain": [
              "<BarContainer object of 36 artists>"
            ]
          },
          "metadata": {},
          "execution_count": 22
        },
        {
          "output_type": "display_data",
          "data": {
            "text/plain": [
              "<Figure size 640x480 with 1 Axes>"
            ],
            "image/png": "[encoded data removed]"
          },
          "metadata": {}
        }
      ]
    },
    {
      "cell_type": "markdown",
      "source": [
        "**plt.bar(x=base_frequency.keys(),height=base_frequency.values()) :**\n",
        "Here, we are using **matplotlib.pyplot** module of python which we imported at the start. This is taking attributes as **base_frequency.keys** which will be the x-axis and the corresponding values which will be the y-axis.<br>\n",
        "**plt.bar() :** This function has used here to plot a 2D **bar plot**.  "
      ],
      "metadata": {
        "id": "6bLW2qIpKDOo"
      }
    }
  ]
}